{
 "cells": [
  {
   "cell_type": "markdown",
   "id": "2b801086",
   "metadata": {},
   "source": [
    "# special type of array"
   ]
  },
  {
   "cell_type": "markdown",
   "id": "42c8653d",
   "metadata": {},
   "source": [
    "##zeros"
   ]
  },
  {
   "cell_type": "code",
   "execution_count": 3,
   "id": "f3b228d3",
   "metadata": {},
   "outputs": [
    {
     "name": "stdout",
     "output_type": "stream",
     "text": [
      "[0. 0. 0. 0.]\n"
     ]
    }
   ],
   "source": [
    "import numpy as np\n",
    "zeroarr=np.zeros(4)\n",
    "print(zeroarr)"
   ]
  },
  {
   "cell_type": "code",
   "execution_count": 10,
   "id": "668950d1",
   "metadata": {},
   "outputs": [
    {
     "name": "stdout",
     "output_type": "stream",
     "text": [
      "[[0. 0. 0. 0.]\n",
      " [0. 0. 0. 0.]\n",
      " [0. 0. 0. 0.]]\n"
     ]
    }
   ],
   "source": [
    "arzero2=np.zeros((3,4))\n",
    "print(arzero2)"
   ]
  },
  {
   "cell_type": "code",
   "execution_count": 7,
   "id": "29b81fdf",
   "metadata": {},
   "outputs": [
    {
     "name": "stdout",
     "output_type": "stream",
     "text": [
      "[1. 1. 1. 1.]\n"
     ]
    }
   ],
   "source": [
    "zeroarr=np.ones(4)\n",
    "print(zeroarr)"
   ]
  },
  {
   "cell_type": "markdown",
   "id": "b6c01a57",
   "metadata": {},
   "source": [
    "# Empty"
   ]
  },
  {
   "cell_type": "code",
   "execution_count": 12,
   "id": "f40dac1f",
   "metadata": {},
   "outputs": [
    {
     "name": "stdout",
     "output_type": "stream",
     "text": [
      "[1. 1. 1. 1.]\n"
     ]
    }
   ],
   "source": [
    "emp=np.empty(4)\n",
    "print(emp)"
   ]
  },
  {
   "cell_type": "markdown",
   "id": "74d5bc4e",
   "metadata": {},
   "source": [
    "# arange"
   ]
  },
  {
   "cell_type": "code",
   "execution_count": 14,
   "id": "e72202d9",
   "metadata": {},
   "outputs": [],
   "source": [
    "p=np.arange(0,4)"
   ]
  },
  {
   "cell_type": "code",
   "execution_count": 15,
   "id": "30cf9a7e",
   "metadata": {},
   "outputs": [
    {
     "name": "stdout",
     "output_type": "stream",
     "text": [
      "[0 1 2 3]\n"
     ]
    }
   ],
   "source": [
    "print(p)"
   ]
  },
  {
   "cell_type": "code",
   "execution_count": 22,
   "id": "20f17b04",
   "metadata": {},
   "outputs": [
    {
     "name": "stdout",
     "output_type": "stream",
     "text": [
      "[[0. 0.]\n",
      " [0. 0.]\n",
      " [0. 0.]\n",
      " [0. 0.]\n",
      " [0. 0.]]\n"
     ]
    }
   ],
   "source": [
    "pq=np.eye(5,2,3)\n",
    "print(pq)"
   ]
  },
  {
   "cell_type": "markdown",
   "id": "87214786",
   "metadata": {},
   "source": [
    "# linspace"
   ]
  },
  {
   "cell_type": "code",
   "execution_count": 27,
   "id": "11e66251",
   "metadata": {},
   "outputs": [
    {
     "name": "stdout",
     "output_type": "stream",
     "text": [
      "[ 0.  5. 10. 15. 20.]\n"
     ]
    }
   ],
   "source": [
    "ar_lin=np.linspace(0,20,5)\n",
    "print(ar_lin)"
   ]
  },
  {
   "cell_type": "markdown",
   "id": "560f5aea",
   "metadata": {},
   "source": [
    "# RAndom"
   ]
  },
  {
   "cell_type": "code",
   "execution_count": 77,
   "id": "004b4640",
   "metadata": {},
   "outputs": [
    {
     "ename": "TypeError",
     "evalue": "rand() got an unexpected keyword argument 'ndmin'",
     "output_type": "error",
     "traceback": [
      "\u001b[1;31m---------------------------------------------------------------------------\u001b[0m",
      "\u001b[1;31mTypeError\u001b[0m                                 Traceback (most recent call last)",
      "\u001b[1;32m~\\AppData\\Local\\Temp\\ipykernel_3764\\4134726447.py\u001b[0m in \u001b[0;36m<module>\u001b[1;34m\u001b[0m\n\u001b[1;32m----> 1\u001b[1;33m \u001b[0mnum\u001b[0m\u001b[1;33m=\u001b[0m\u001b[0mnp\u001b[0m\u001b[1;33m.\u001b[0m\u001b[0mrandom\u001b[0m\u001b[1;33m.\u001b[0m\u001b[0mrand\u001b[0m\u001b[1;33m(\u001b[0m\u001b[0mndmin\u001b[0m\u001b[1;33m=\u001b[0m\u001b[1;36m4\u001b[0m\u001b[1;33m)\u001b[0m\u001b[1;33m\u001b[0m\u001b[1;33m\u001b[0m\u001b[0m\n\u001b[0m\u001b[0;32m      2\u001b[0m \u001b[0mprint\u001b[0m\u001b[1;33m(\u001b[0m\u001b[0mnum\u001b[0m\u001b[1;33m)\u001b[0m\u001b[1;33m\u001b[0m\u001b[1;33m\u001b[0m\u001b[0m\n",
      "\u001b[1;31mTypeError\u001b[0m: rand() got an unexpected keyword argument 'ndmin'"
     ]
    }
   ],
   "source": [
    "num=np.random.rand(ndmin=4)\n",
    "print(num)"
   ]
  },
  {
   "cell_type": "code",
   "execution_count": 52,
   "id": "946ed2f6",
   "metadata": {},
   "outputs": [
    {
     "name": "stdout",
     "output_type": "stream",
     "text": [
      "1.908204136758496\n"
     ]
    }
   ],
   "source": [
    "num1=np.random.randn()\n",
    "print(num1)"
   ]
  },
  {
   "cell_type": "code",
   "execution_count": 53,
   "id": "6f97c748",
   "metadata": {},
   "outputs": [
    {
     "name": "stdout",
     "output_type": "stream",
     "text": [
      "0.13191511465153682\n"
     ]
    }
   ],
   "source": [
    "num2=np.random.ranf()\n",
    "print(num2)"
   ]
  },
  {
   "cell_type": "code",
   "execution_count": 65,
   "id": "7fdbc037",
   "metadata": {},
   "outputs": [
    {
     "name": "stdout",
     "output_type": "stream",
     "text": [
      "[[0.04439254 0.30943587 0.73751995 0.88350438]\n",
      " [0.59351375 0.36978425 0.78550156 0.00170718]]\n"
     ]
    }
   ],
   "source": [
    "num4=np.random.ranf((2,4))\n",
    "print(num4)"
   ]
  },
  {
   "cell_type": "code",
   "execution_count": 78,
   "id": "fb7c0732",
   "metadata": {},
   "outputs": [
    {
     "ename": "SyntaxError",
     "evalue": "invalid syntax (1917562977.py, line 1)",
     "output_type": "error",
     "traceback": [
      "\u001b[1;36m  File \u001b[1;32m\"C:\\Users\\User\\AppData\\Local\\Temp\\ipykernel_3764\\1917562977.py\"\u001b[1;36m, line \u001b[1;32m1\u001b[0m\n\u001b[1;33m    num5=np.random.randint(5,20,(ndmin=4))\u001b[0m\n\u001b[1;37m                                      ^\u001b[0m\n\u001b[1;31mSyntaxError\u001b[0m\u001b[1;31m:\u001b[0m invalid syntax\n"
     ]
    }
   ],
   "source": [
    "num5=np.random.randint(5,20,())\n",
    "print(num5)"
   ]
  },
  {
   "cell_type": "code",
   "execution_count": null,
   "id": "1cc1bdce",
   "metadata": {},
   "outputs": [],
   "source": []
  }
 ],
 "metadata": {
  "kernelspec": {
   "display_name": "Python 3 (ipykernel)",
   "language": "python",
   "name": "python3"
  },
  "language_info": {
   "codemirror_mode": {
    "name": "ipython",
    "version": 3
   },
   "file_extension": ".py",
   "mimetype": "text/x-python",
   "name": "python",
   "nbconvert_exporter": "python",
   "pygments_lexer": "ipython3",
   "version": "3.9.13"
  }
 },
 "nbformat": 4,
 "nbformat_minor": 5
}
