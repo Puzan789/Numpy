{
 "cells": [
  {
   "cell_type": "code",
   "execution_count": 6,
   "id": "a4f044d0",
   "metadata": {},
   "outputs": [
    {
     "name": "stdout",
     "output_type": "stream",
     "text": [
      "(array([3], dtype=int64),)\n"
     ]
    }
   ],
   "source": [
    "import numpy as np\n",
    "var=np.array([1,2,3,4,65,5,6,7,8,9,3])\n",
    "vark= np.where(var/2==2)\n",
    "print(vark)"
   ]
  },
  {
   "cell_type": "code",
   "execution_count": 8,
   "id": "2c7e99ba",
   "metadata": {},
   "outputs": [
    {
     "name": "stdout",
     "output_type": "stream",
     "text": [
      "6\n"
     ]
    }
   ],
   "source": [
    "var1=np.array([1,2,3,4,5,6])\n",
    "x1=np.searchsorted(var1,9)\n",
    "print(x1)"
   ]
  },
  {
   "cell_type": "markdown",
   "id": "50544edb",
   "metadata": {},
   "source": [
    "# Sort Function"
   ]
  },
  {
   "cell_type": "code",
   "execution_count": 11,
   "id": "597b5de7",
   "metadata": {},
   "outputs": [
    {
     "name": "stdout",
     "output_type": "stream",
     "text": [
      "['1' '2' '23' '234' '3' '332' '345' '4' '5' '5' '6' '7' '754' '765' '78'\n",
      " '787' '9' '9' 'A' 'asd']\n"
     ]
    }
   ],
   "source": [
    "var0=np.array([2,1,3,5,9,6,4,5,765,345,754,234,7,787,332,78,23,9,'asd','A'])\n",
    "print(np.sort(var0))\n"
   ]
  },
  {
   "cell_type": "code",
   "execution_count": 14,
   "id": "c93b52f7",
   "metadata": {},
   "outputs": [
    {
     "name": "stdout",
     "output_type": "stream",
     "text": [
      "[[ 1  3  1]\n",
      " [ 9  9  2]\n",
      " [99 23  3]]\n"
     ]
    }
   ],
   "source": [
    "varl=np.array([[1,9,3],[9,3,2],[99,23,1]])\n",
    "print(np.sort(varl,axis=0 ))"
   ]
  },
  {
   "cell_type": "markdown",
   "id": "55722906",
   "metadata": {},
   "source": [
    "# Filter"
   ]
  },
  {
   "cell_type": "code",
   "execution_count": 18,
   "id": "7cca5c98",
   "metadata": {},
   "outputs": [
    {
     "name": "stdout",
     "output_type": "stream",
     "text": [
      "[2 3]\n"
     ]
    }
   ],
   "source": [
    "kar=np.array([2,1,3,5])\n",
    "y= [True,False,True,False]\n",
    "newa= kar[y]\n",
    "print(newa)"
   ]
  },
  {
   "cell_type": "code",
   "execution_count": null,
   "id": "67289179",
   "metadata": {},
   "outputs": [],
   "source": []
  }
 ],
 "metadata": {
  "kernelspec": {
   "display_name": "Python 3 (ipykernel)",
   "language": "python",
   "name": "python3"
  },
  "language_info": {
   "codemirror_mode": {
    "name": "ipython",
    "version": 3
   },
   "file_extension": ".py",
   "mimetype": "text/x-python",
   "name": "python",
   "nbconvert_exporter": "python",
   "pygments_lexer": "ipython3",
   "version": "3.9.13"
  }
 },
 "nbformat": 4,
 "nbformat_minor": 5
}
