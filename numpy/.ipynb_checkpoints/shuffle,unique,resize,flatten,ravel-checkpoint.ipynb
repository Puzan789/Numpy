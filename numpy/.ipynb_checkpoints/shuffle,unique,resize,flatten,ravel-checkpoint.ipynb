{
 "cells": [
  {
   "cell_type": "code",
   "execution_count": 1,
   "id": "4a991afa",
   "metadata": {},
   "outputs": [],
   "source": [
    "import numpy as np"
   ]
  },
  {
   "cell_type": "code",
   "execution_count": 6,
   "id": "59c10b2c",
   "metadata": {},
   "outputs": [
    {
     "name": "stdout",
     "output_type": "stream",
     "text": [
      "[1 4 5 2 3]\n"
     ]
    }
   ],
   "source": [
    "var=np.array([1,2,3,5,4])\n",
    "np.random.shuffle(var)\n",
    "print(var)"
   ]
  },
  {
   "cell_type": "markdown",
   "id": "73363039",
   "metadata": {},
   "source": [
    "# unique"
   ]
  },
  {
   "cell_type": "code",
   "execution_count": 11,
   "id": "a9860f05",
   "metadata": {},
   "outputs": [
    {
     "name": "stdout",
     "output_type": "stream",
     "text": [
      "(array([ 1,  2,  3,  4,  5,  6,  8, 65, 76, 77, 87]), array([ 0,  1,  2,  3,  4, 15, 14, 12,  5, 13,  6], dtype=int64), array([2, 2, 4, 3, 1, 1, 1, 1, 1, 1, 1], dtype=int64))\n"
     ]
    }
   ],
   "source": [
    "var1=np.array([1,2,3,4,5,76,87,3,2,1,3,4,65,77,8,6,4,3])\n",
    "k=np.unique(var1,return_index=True,return_counts=True)\n",
    "print(k)"
   ]
  },
  {
   "cell_type": "markdown",
   "id": "78b6a8bd",
   "metadata": {},
   "source": [
    "# Resize"
   ]
  },
  {
   "cell_type": "code",
   "execution_count": 15,
   "id": "1ac7986c",
   "metadata": {},
   "outputs": [
    {
     "name": "stdout",
     "output_type": "stream",
     "text": [
      "[[[[1 2 3]\n",
      "   [4 5 6]\n",
      "   [1 2 3]]\n",
      "\n",
      "  [[4 5 6]\n",
      "   [1 2 3]\n",
      "   [4 5 6]]\n",
      "\n",
      "  [[1 2 3]\n",
      "   [4 5 6]\n",
      "   [1 2 3]]]\n",
      "\n",
      "\n",
      " [[[4 5 6]\n",
      "   [1 2 3]\n",
      "   [4 5 6]]\n",
      "\n",
      "  [[1 2 3]\n",
      "   [4 5 6]\n",
      "   [1 2 3]]\n",
      "\n",
      "  [[4 5 6]\n",
      "   [1 2 3]\n",
      "   [4 5 6]]]\n",
      "\n",
      "\n",
      " [[[1 2 3]\n",
      "   [4 5 6]\n",
      "   [1 2 3]]\n",
      "\n",
      "  [[4 5 6]\n",
      "   [1 2 3]\n",
      "   [4 5 6]]\n",
      "\n",
      "  [[1 2 3]\n",
      "   [4 5 6]\n",
      "   [1 2 3]]]]\n"
     ]
    }
   ],
   "source": [
    "re=np.array([1,2,3,4,5,6])\n",
    "y=np.resize(re,(3,2))\n",
    "print(y)"
   ]
  },
  {
   "cell_type": "markdown",
   "id": "6785c8d9",
   "metadata": {},
   "source": [
    "# flatten & Ravel\n"
   ]
  },
  {
   "cell_type": "code",
   "execution_count": 25,
   "id": "6dd6e32e",
   "metadata": {},
   "outputs": [
    {
     "name": "stdout",
     "output_type": "stream",
     "text": [
      "Flatten [1 3 5 2 8 6]\n",
      "Ravel [1 2 3 8 5 6]\n"
     ]
    }
   ],
   "source": [
    "\n",
    "re=np.array([1,2,3,8,5,6])\n",
    "y=np.resize(re,(3,2))\n",
    "print(\"Flatten\",y.flatten(order='F'))\n",
    "print(\"Ravel\",y.ravel(order='k'))\n",
    "\n",
    "  "
   ]
  },
  {
   "cell_type": "code",
   "execution_count": null,
   "id": "2d0293c8",
   "metadata": {},
   "outputs": [],
   "source": []
  }
 ],
 "metadata": {
  "kernelspec": {
   "display_name": "Python 3 (ipykernel)",
   "language": "python",
   "name": "python3"
  },
  "language_info": {
   "codemirror_mode": {
    "name": "ipython",
    "version": 3
   },
   "file_extension": ".py",
   "mimetype": "text/x-python",
   "name": "python",
   "nbconvert_exporter": "python",
   "pygments_lexer": "ipython3",
   "version": "3.9.13"
  }
 },
 "nbformat": 4,
 "nbformat_minor": 5
}
