{
 "cells": [
  {
   "cell_type": "markdown",
   "id": "032a23dc",
   "metadata": {},
   "source": [
    "# Indexing"
   ]
  },
  {
   "cell_type": "code",
   "execution_count": 1,
   "id": "89da805b",
   "metadata": {},
   "outputs": [
    {
     "name": "stdout",
     "output_type": "stream",
     "text": [
      "2\n"
     ]
    }
   ],
   "source": [
    "import numpy as np\n",
    "var1=np.array([1,2,3,4])\n",
    "print(var1[-3])"
   ]
  },
  {
   "cell_type": "code",
   "execution_count": 10,
   "id": "12040294",
   "metadata": {},
   "outputs": [
    {
     "name": "stdout",
     "output_type": "stream",
     "text": [
      "[[1 2 3 4]\n",
      " [8 9 5 4]]\n",
      "2\n",
      "4\n"
     ]
    }
   ],
   "source": [
    "var2=np.array([[1,2,3,4],[8,9,5,4]])\n",
    "print(var2)\n",
    "print(var2.ndim)\n",
    "print(var2[0,3])"
   ]
  },
  {
   "cell_type": "code",
   "execution_count": 14,
   "id": "7736ff3c",
   "metadata": {},
   "outputs": [
    {
     "name": "stdout",
     "output_type": "stream",
     "text": [
      "[[[6 2]\n",
      "  [1 8]]]\n",
      "2\n"
     ]
    }
   ],
   "source": [
    "var3=np.array([[[6,2],[1,8]]])\n",
    "print(var3)\n",
    "print(var3[0,0,1])"
   ]
  },
  {
   "cell_type": "markdown",
   "id": "447ef3e1",
   "metadata": {},
   "source": [
    "# slicing"
   ]
  },
  {
   "cell_type": "code",
   "execution_count": 15,
   "id": "a514a67d",
   "metadata": {},
   "outputs": [
    {
     "name": "stdout",
     "output_type": "stream",
     "text": [
      "[2 3]\n"
     ]
    }
   ],
   "source": [
    "var1=np.array([1,2,3,4])\n",
    "print(var1[1:3])"
   ]
  },
  {
   "cell_type": "code",
   "execution_count": 17,
   "id": "595498ae",
   "metadata": {},
   "outputs": [
    {
     "name": "stdout",
     "output_type": "stream",
     "text": [
      "[2 3]\n"
     ]
    }
   ],
   "source": [
    "var2=np.array([[1,2,3,4],[8,9,5,4]])\n",
    "print(var2[0,1:3])"
   ]
  },
  {
   "cell_type": "code",
   "execution_count": null,
   "id": "dc2c1377",
   "metadata": {},
   "outputs": [],
   "source": []
  }
 ],
 "metadata": {
  "kernelspec": {
   "display_name": "Python 3 (ipykernel)",
   "language": "python",
   "name": "python3"
  },
  "language_info": {
   "codemirror_mode": {
    "name": "ipython",
    "version": 3
   },
   "file_extension": ".py",
   "mimetype": "text/x-python",
   "name": "python",
   "nbconvert_exporter": "python",
   "pygments_lexer": "ipython3",
   "version": "3.9.13"
  }
 },
 "nbformat": 4,
 "nbformat_minor": 5
}
