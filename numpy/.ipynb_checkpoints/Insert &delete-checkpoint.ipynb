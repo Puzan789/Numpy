{
 "cells": [
  {
   "cell_type": "markdown",
   "id": "7136b153",
   "metadata": {},
   "source": [
    "# Insert"
   ]
  },
  {
   "cell_type": "code",
   "execution_count": 5,
   "id": "87642442",
   "metadata": {},
   "outputs": [
    {
     "name": "stdout",
     "output_type": "stream",
     "text": [
      "[1 2 9 3 9 4 5]\n"
     ]
    }
   ],
   "source": [
    "import numpy as np\n",
    "vark= np.array([1,2,3,4,5])\n",
    "l=np.insert(vark,(3,2),9)\n",
    "print(l)"
   ]
  },
  {
   "cell_type": "code",
   "execution_count": 13,
   "id": "ff70eec2",
   "metadata": {},
   "outputs": [
    {
     "name": "stdout",
     "output_type": "stream",
     "text": [
      "[[1 2 9 3]\n",
      " [4 5 9 6]]\n"
     ]
    }
   ],
   "source": [
    "var1=np.array([[1,2,3],[4,5,6]])\n",
    "k1l=np.insert(var1,2,9,axis=1)\n",
    "print(k1l)\n"
   ]
  },
  {
   "cell_type": "code",
   "execution_count": 16,
   "id": "0de28459",
   "metadata": {},
   "outputs": [
    {
     "name": "stdout",
     "output_type": "stream",
     "text": [
      "[1 2 3 4 5 6 2]\n"
     ]
    }
   ],
   "source": [
    "var1=np.array([[1,2,3],[4,5,6]])\n",
    "k1l=np.append(var1,2)\n",
    "print(k1l)\n"
   ]
  },
  {
   "cell_type": "markdown",
   "id": "076e06a1",
   "metadata": {},
   "source": [
    "# Delete"
   ]
  },
  {
   "cell_type": "code",
   "execution_count": 17,
   "id": "b031fc1f",
   "metadata": {},
   "outputs": [
    {
     "name": "stdout",
     "output_type": "stream",
     "text": [
      "[1 2 4 5 6]\n"
     ]
    }
   ],
   "source": [
    "var1=np.array([[1,2,3],[4,5,6]])\n",
    "k1l=np.delete(var1,2)\n",
    "print(k1l)"
   ]
  },
  {
   "cell_type": "code",
   "execution_count": null,
   "id": "26b32094",
   "metadata": {},
   "outputs": [],
   "source": []
  }
 ],
 "metadata": {
  "kernelspec": {
   "display_name": "Python 3 (ipykernel)",
   "language": "python",
   "name": "python3"
  },
  "language_info": {
   "codemirror_mode": {
    "name": "ipython",
    "version": 3
   },
   "file_extension": ".py",
   "mimetype": "text/x-python",
   "name": "python",
   "nbconvert_exporter": "python",
   "pygments_lexer": "ipython3",
   "version": "3.9.13"
  }
 },
 "nbformat": 4,
 "nbformat_minor": 5
}
