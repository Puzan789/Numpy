{
 "cells": [
  {
   "cell_type": "markdown",
   "id": "797b9144",
   "metadata": {},
   "source": [
    "# copy vs view"
   ]
  },
  {
   "cell_type": "code",
   "execution_count": 1,
   "id": "ab887518",
   "metadata": {},
   "outputs": [],
   "source": [
    "import numpy as np"
   ]
  },
  {
   "cell_type": "code",
   "execution_count": 3,
   "id": "8e85dcce",
   "metadata": {},
   "outputs": [
    {
     "name": "stdout",
     "output_type": "stream",
     "text": [
      "[1 2 3 4]\n",
      "copy [1 2 3 4]\n"
     ]
    }
   ],
   "source": [
    "var=np.array([1,2,3,4])\n",
    "co=var.copy()\n",
    "print(var)\n",
    "print('copy',co)"
   ]
  },
  {
   "cell_type": "code",
   "execution_count": 4,
   "id": "8c002e2e",
   "metadata": {},
   "outputs": [
    {
     "name": "stdout",
     "output_type": "stream",
     "text": [
      "[1 2 3 4]\n",
      "view [1 2 3 4]\n"
     ]
    }
   ],
   "source": [
    "var=np.array([1,2,3,4])\n",
    "vi=var.copy()\n",
    "print(var)\n",
    "print('view',vi)"
   ]
  },
  {
   "cell_type": "markdown",
   "id": "23cff732",
   "metadata": {},
   "source": [
    "# Join array"
   ]
  },
  {
   "cell_type": "code",
   "execution_count": 9,
   "id": "aa496c0c",
   "metadata": {},
   "outputs": [
    {
     "name": "stdout",
     "output_type": "stream",
     "text": [
      "[ 1  2  3  4  5 43  5  3]\n"
     ]
    }
   ],
   "source": [
    "arr=np.array([1,2,3,4])\n",
    "arr1=np.array([5,43,5,3])\n",
    "\n",
    "ar=np.concatenate((arr,arr1))\n",
    "print(ar)\n"
   ]
  },
  {
   "cell_type": "markdown",
   "id": "6e1ad7bf",
   "metadata": {},
   "source": [
    "# 2d array"
   ]
  },
  {
   "cell_type": "code",
   "execution_count": 17,
   "id": "a944dbcf",
   "metadata": {},
   "outputs": [
    {
     "name": "stdout",
     "output_type": "stream",
     "text": [
      "[[1 2]\n",
      " [3 4]]\n",
      "(2, 2)\n",
      "[[ 1  2  5 43]\n",
      " [ 3  4  5  3]]\n"
     ]
    }
   ],
   "source": [
    "pk=np.array([[1,2],[3,4]])\n",
    "pk2=np.array([[5,43],[5,3]])\n",
    "print(pk)\n",
    "print(pk.shape)\n",
    "\n",
    "arnew=np.concatenate((pk,pk2),axis=1)\n",
    "print(arnew)\n",
    "\n"
   ]
  },
  {
   "cell_type": "code",
   "execution_count": 21,
   "id": "31c89384",
   "metadata": {},
   "outputs": [
    {
     "name": "stdout",
     "output_type": "stream",
     "text": [
      "[[[ 1  5]\n",
      "  [ 2 43]]\n",
      "\n",
      " [[ 3  5]\n",
      "  [ 4  3]]]\n"
     ]
    }
   ],
   "source": [
    "pk5=np.array([[1,2],[3,4]])\n",
    "pk6=np.array([[5,43],[5,3]])\n",
    "\n",
    "\n",
    "arnew1=np.dstack((pk5,pk6))\n",
    "print(arnew1)\n"
   ]
  },
  {
   "cell_type": "markdown",
   "id": "f88ed1a3",
   "metadata": {},
   "source": [
    "# Split array"
   ]
  },
  {
   "cell_type": "markdown",
   "id": "168dc50e",
   "metadata": {},
   "source": [
    "# 1d array split"
   ]
  },
  {
   "cell_type": "code",
   "execution_count": 23,
   "id": "3df371ab",
   "metadata": {},
   "outputs": [
    {
     "name": "stdout",
     "output_type": "stream",
     "text": [
      "[array([1, 2]), array([3]), array([4])]\n"
     ]
    }
   ],
   "source": [
    "car=np.array([1,2,3,4,5])\n",
    "a9=np.array_split(var,3)\n",
    "print(a9)"
   ]
  },
  {
   "cell_type": "markdown",
   "id": "1ad6ed66",
   "metadata": {},
   "source": [
    "# 2d array"
   ]
  },
  {
   "cell_type": "code",
   "execution_count": 26,
   "id": "e52056a9",
   "metadata": {},
   "outputs": [
    {
     "name": "stdout",
     "output_type": "stream",
     "text": [
      "[array([[5],\n",
      "       [5],\n",
      "       [6],\n",
      "       [9]]), array([[43],\n",
      "       [ 3],\n",
      "       [ 5],\n",
      "       [ 0]]), array([], shape=(4, 0), dtype=int32), array([], shape=(4, 0), dtype=int32)]\n"
     ]
    }
   ],
   "source": [
    "pk2=np.array([[5,43],[5,3],[6,5],[9,0]])\n",
    "a16=np.array_split(pk2,4,axis=1)\n",
    "print(a16)"
   ]
  },
  {
   "cell_type": "code",
   "execution_count": null,
   "id": "d42a3633",
   "metadata": {},
   "outputs": [],
   "source": []
  }
 ],
 "metadata": {
  "kernelspec": {
   "display_name": "Python 3 (ipykernel)",
   "language": "python",
   "name": "python3"
  },
  "language_info": {
   "codemirror_mode": {
    "name": "ipython",
    "version": 3
   },
   "file_extension": ".py",
   "mimetype": "text/x-python",
   "name": "python",
   "nbconvert_exporter": "python",
   "pygments_lexer": "ipython3",
   "version": "3.9.13"
  }
 },
 "nbformat": 4,
 "nbformat_minor": 5
}
