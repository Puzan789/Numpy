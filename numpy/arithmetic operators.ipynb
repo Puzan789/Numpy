{
 "cells": [
  {
   "cell_type": "markdown",
   "id": "f9eeaaed",
   "metadata": {},
   "source": [
    "# Arithmetic operators"
   ]
  },
  {
   "cell_type": "markdown",
   "id": "026788ae",
   "metadata": {},
   "source": [
    "# 1d array"
   ]
  },
  {
   "cell_type": "code",
   "execution_count": 1,
   "id": "141dcb10",
   "metadata": {},
   "outputs": [],
   "source": [
    "import numpy as np"
   ]
  },
  {
   "cell_type": "code",
   "execution_count": 2,
   "id": "5f496ef1",
   "metadata": {},
   "outputs": [
    {
     "data": {
      "text/plain": [
       "array([4, 5, 6, 7])"
      ]
     },
     "execution_count": 2,
     "metadata": {},
     "output_type": "execute_result"
    }
   ],
   "source": [
    "var=np.array([1,2,3,4])\n",
    "\n",
    "varadd=var+3\n",
    "varadd"
   ]
  },
  {
   "cell_type": "code",
   "execution_count": 5,
   "id": "a2878425",
   "metadata": {},
   "outputs": [
    {
     "data": {
      "text/plain": [
       "array([0, 0, 0, 0])"
      ]
     },
     "execution_count": 5,
     "metadata": {},
     "output_type": "execute_result"
    }
   ],
   "source": [
    "var=np.array([1,2,3,4])\n",
    "var2=np.array([1,2,3,4])\n",
    "varadd=var-var2\n",
    "varadd"
   ]
  },
  {
   "cell_type": "code",
   "execution_count": 8,
   "id": "e7086b46",
   "metadata": {},
   "outputs": [
    {
     "name": "stdout",
     "output_type": "stream",
     "text": [
      "[0 0 0 0]\n"
     ]
    }
   ],
   "source": [
    "var=np.array([1,2,3,4])\n",
    "var2=np.array([1,2,3,4])\n",
    "varadd=var%var2\n",
    "print(varadd)"
   ]
  },
  {
   "cell_type": "code",
   "execution_count": 12,
   "id": "25a8375f",
   "metadata": {},
   "outputs": [
    {
     "name": "stdout",
     "output_type": "stream",
     "text": [
      "[2 4 6 8]\n"
     ]
    }
   ],
   "source": [
    "a=np.array([1,2,3,4])\n",
    "b=np.array([1,2,3,4])\n",
    "print(np.add(a,b))"
   ]
  },
  {
   "cell_type": "markdown",
   "id": "fdf26f1b",
   "metadata": {},
   "source": [
    "# 2d array"
   ]
  },
  {
   "cell_type": "code",
   "execution_count": 14,
   "id": "b0f0ecce",
   "metadata": {},
   "outputs": [
    {
     "name": "stdout",
     "output_type": "stream",
     "text": [
      "[[ 1  4  9 16]\n",
      " [ 1  4  9 16]]\n"
     ]
    }
   ],
   "source": [
    "var2d=np.array([[1,2,3,4],[1,2,3,4]])\n",
    "var2d1=np.array([[1,2,3,4],[1,2,3,4]])\n",
    "var=var2d*var2d1\n",
    "print(var)"
   ]
  },
  {
   "cell_type": "markdown",
   "id": "39618bc0",
   "metadata": {},
   "source": [
    "# Arithmetic functions"
   ]
  },
  {
   "cell_type": "code",
   "execution_count": 18,
   "id": "807ac915",
   "metadata": {},
   "outputs": [
    {
     "name": "stdout",
     "output_type": "stream",
     "text": [
      "1\n",
      "6 6\n"
     ]
    }
   ],
   "source": [
    "ar=np.array([1,2,3,4,3,5,6])\n",
    "print(np.min(ar))\n",
    "print(np.max(ar),np.argmax(ar))"
   ]
  },
  {
   "cell_type": "code",
   "execution_count": 22,
   "id": "acf3b657",
   "metadata": {},
   "outputs": [
    {
     "name": "stdout",
     "output_type": "stream",
     "text": [
      "[ 3  4  5 72  2  5  6]\n",
      "[[  3   4   5  72   3  45   6]\n",
      " [  6  49  11 159   5  50  13]]\n"
     ]
    }
   ],
   "source": [
    "ar12=np.array([[3,4,5,72,3,45,6],[3,45,6,87,2,5,7]])\n",
    "print(np.min(ar12,axis=0))\n",
    "print(np.cumsum(ar12,axis=0))"
   ]
  },
  {
   "cell_type": "code",
   "execution_count": null,
   "id": "ae40afa8",
   "metadata": {},
   "outputs": [],
   "source": []
  },
  {
   "cell_type": "code",
   "execution_count": null,
   "id": "3407c8c1",
   "metadata": {},
   "outputs": [],
   "source": []
  }
 ],
 "metadata": {
  "kernelspec": {
   "display_name": "Python 3 (ipykernel)",
   "language": "python",
   "name": "python3"
  },
  "language_info": {
   "codemirror_mode": {
    "name": "ipython",
    "version": 3
   },
   "file_extension": ".py",
   "mimetype": "text/x-python",
   "name": "python",
   "nbconvert_exporter": "python",
   "pygments_lexer": "ipython3",
   "version": "3.9.13"
  }
 },
 "nbformat": 4,
 "nbformat_minor": 5
}
