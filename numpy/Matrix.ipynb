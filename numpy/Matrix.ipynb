{
 "cells": [
  {
   "cell_type": "markdown",
   "id": "053fb0bd",
   "metadata": {},
   "source": [
    "# Matrix\n"
   ]
  },
  {
   "cell_type": "code",
   "execution_count": 4,
   "id": "4735579a",
   "metadata": {},
   "outputs": [
    {
     "name": "stdout",
     "output_type": "stream",
     "text": [
      "[[1 2 3]\n",
      " [1 2 3]]\n",
      "<class 'numpy.matrix'>\n"
     ]
    }
   ],
   "source": [
    "import numpy as np\n",
    "var=np.matrix([[1,2,3],[1,2,3]])\n",
    "print(var)\n",
    "print(type(var))"
   ]
  },
  {
   "cell_type": "code",
   "execution_count": 18,
   "id": "9bba2493",
   "metadata": {},
   "outputs": [
    {
     "name": "stdout",
     "output_type": "stream",
     "text": [
      "[[1 2 4 3]\n",
      " [1 2 3 4]\n",
      " [1 2 3 4]\n",
      " [2 3 4 5]]\n",
      "\n",
      "[[1 2]\n",
      " [1 2]\n",
      " [1 2]\n",
      " [1 2]]\n",
      "[[10 20]\n",
      " [10 20]\n",
      " [10 20]\n",
      " [14 28]]\n"
     ]
    }
   ],
   "source": [
    "var=np.matrix([[1,2,4,3],[1,2,3,4],[1,2,3,4],[2,3,4,5]])\n",
    "print(var)\n",
    "var2=np.matrix([[1,2],[1,2],[1,2],[1,2]])\n",
    "print()\n",
    "print(var2)\n",
    "print(var.dot(var2))"
   ]
  },
  {
   "cell_type": "markdown",
   "id": "96fac8a2",
   "metadata": {},
   "source": [
    "# Matrix Function"
   ]
  },
  {
   "cell_type": "code",
   "execution_count": 23,
   "id": "971211d6",
   "metadata": {},
   "outputs": [
    {
     "name": "stdout",
     "output_type": "stream",
     "text": [
      "[[1 2]\n",
      " [3 4]\n",
      " [5 0]]\n",
      "[[1 3 5]\n",
      " [2 4 0]]\n",
      "[[1 3 5]\n",
      " [2 4 0]]\n"
     ]
    }
   ],
   "source": [
    "mat=np.matrix([[1,2],[3,4],[5,0]])\n",
    "print(mat)\n",
    "# print(np.transpose(mat))\n",
    "print(mat.T)\n",
    "print(np.swapaxes(mat,0,1))"
   ]
  },
  {
   "cell_type": "code",
   "execution_count": 34,
   "id": "1d1b121e",
   "metadata": {},
   "outputs": [
    {
     "name": "stdout",
     "output_type": "stream",
     "text": [
      "[[1 9]\n",
      " [2 8]]\n"
     ]
    }
   ],
   "source": [
    "sq=np.matrix([[1,9],[2,8]])\n",
    "print(sq)"
   ]
  },
  {
   "cell_type": "code",
   "execution_count": 36,
   "id": "7a0d483e",
   "metadata": {},
   "outputs": [
    {
     "name": "stdout",
     "output_type": "stream",
     "text": [
      "[[1 2]\n",
      " [9 8]]\n",
      "\n",
      "[[-0.8  0.9]\n",
      " [ 0.2 -0.1]]\n"
     ]
    }
   ],
   "source": [
    "print(np.swapaxes(sq,0,1))\n",
    "print()\n",
    "print(np.linalg.inv(sq) )"
   ]
  },
  {
   "cell_type": "markdown",
   "id": "e2438eab",
   "metadata": {},
   "source": [
    "# Power"
   ]
  },
  {
   "cell_type": "code",
   "execution_count": 40,
   "id": "ba3cd7a6",
   "metadata": {},
   "outputs": [
    {
     "name": "stdout",
     "output_type": "stream",
     "text": [
      "[[19 81]\n",
      " [18 82]]\n"
     ]
    }
   ],
   "source": [
    "print(np.linalg.matrix_power(sq,2))"
   ]
  },
  {
   "cell_type": "code",
   "execution_count": 41,
   "id": "e6dedc9f",
   "metadata": {},
   "outputs": [
    {
     "name": "stdout",
     "output_type": "stream",
     "text": [
      "-9.999999999999998\n"
     ]
    }
   ],
   "source": [
    "print(np.linalg.det(sq))"
   ]
  },
  {
   "cell_type": "code",
   "execution_count": null,
   "id": "14692106",
   "metadata": {},
   "outputs": [],
   "source": []
  }
 ],
 "metadata": {
  "kernelspec": {
   "display_name": "Python 3 (ipykernel)",
   "language": "python",
   "name": "python3"
  },
  "language_info": {
   "codemirror_mode": {
    "name": "ipython",
    "version": 3
   },
   "file_extension": ".py",
   "mimetype": "text/x-python",
   "name": "python",
   "nbconvert_exporter": "python",
   "pygments_lexer": "ipython3",
   "version": "3.9.13"
  }
 },
 "nbformat": 4,
 "nbformat_minor": 5
}
