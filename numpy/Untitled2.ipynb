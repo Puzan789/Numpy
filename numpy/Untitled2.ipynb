{
 "cells": [
  {
   "cell_type": "code",
   "execution_count": null,
   "id": "517fad4d",
   "metadata": {},
   "outputs": [],
   "source": []
  },
  {
   "cell_type": "markdown",
   "id": "bfde793c",
   "metadata": {},
   "source": [
    "# Shape and reshape numpy"
   ]
  },
  {
   "cell_type": "markdown",
   "id": "e157fa30",
   "metadata": {},
   "source": [
    "# shape"
   ]
  },
  {
   "cell_type": "code",
   "execution_count": 15,
   "id": "c21f8e68",
   "metadata": {},
   "outputs": [
    {
     "name": "stdout",
     "output_type": "stream",
     "text": [
      "[[1 2 3 4 2]\n",
      " [1 2 3 4 5]]\n",
      "\n",
      "(2, 5)\n"
     ]
    }
   ],
   "source": [
    "import numpy as np\n",
    "var=np.array([[1,2,3,4,2],[1,2,3,4,5]])\n",
    "print(var)\n",
    "print()\n",
    "print(var.shape)"
   ]
  },
  {
   "cell_type": "code",
   "execution_count": 22,
   "id": "4f7e8d86",
   "metadata": {},
   "outputs": [
    {
     "name": "stdout",
     "output_type": "stream",
     "text": [
      "[[[[[[[[1 2 3 4 8 9 8]]]]]]]]\n",
      "8\n",
      "(1, 1, 1, 1, 1, 1, 1, 7)\n"
     ]
    }
   ],
   "source": [
    "var1=np.array([1,2,3,4,8,9,8],ndmin=8)\n",
    "print(var1)\n",
    "print(var1.ndim)\n",
    "print(var1.shape)"
   ]
  },
  {
   "cell_type": "markdown",
   "id": "24e44753",
   "metadata": {},
   "source": [
    "# reshape"
   ]
  },
  {
   "cell_type": "code",
   "execution_count": 56,
   "id": "440fe805",
   "metadata": {},
   "outputs": [
    {
     "name": "stdout",
     "output_type": "stream",
     "text": [
      "[[[[1]]\n",
      "\n",
      "  [[2]]]\n",
      "\n",
      "\n",
      " [[[3]]\n",
      "\n",
      "  [[4]]]\n",
      "\n",
      "\n",
      " [[[1]]\n",
      "\n",
      "  [[2]]]\n",
      "\n",
      "\n",
      " [[[3]]\n",
      "\n",
      "  [[4]]]]\n"
     ]
    }
   ],
   "source": [
    "v=np.array([1,2,3,4,1,2,3,4])\n",
    "x=v.reshape(4,2,1,1)\n",
    "print(x)"
   ]
  },
  {
   "cell_type": "code",
   "execution_count": null,
   "id": "5b02e6b0",
   "metadata": {},
   "outputs": [],
   "source": []
  }
 ],
 "metadata": {
  "kernelspec": {
   "display_name": "Python 3 (ipykernel)",
   "language": "python",
   "name": "python3"
  },
  "language_info": {
   "codemirror_mode": {
    "name": "ipython",
    "version": 3
   },
   "file_extension": ".py",
   "mimetype": "text/x-python",
   "name": "python",
   "nbconvert_exporter": "python",
   "pygments_lexer": "ipython3",
   "version": "3.9.13"
  }
 },
 "nbformat": 4,
 "nbformat_minor": 5
}
