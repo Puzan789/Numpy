{
 "cells": [
  {
   "cell_type": "markdown",
   "id": "6d79bbce",
   "metadata": {},
   "source": [
    "# Data types"
   ]
  },
  {
   "cell_type": "code",
   "execution_count": 3,
   "id": "fed165dc",
   "metadata": {},
   "outputs": [
    {
     "name": "stdout",
     "output_type": "stream",
     "text": [
      "data type int32\n"
     ]
    }
   ],
   "source": [
    "import numpy as np\n",
    "var=np.array([1])\n",
    "print(\"data type\",var.dtype)"
   ]
  },
  {
   "cell_type": "code",
   "execution_count": 4,
   "id": "fbc334d0",
   "metadata": {},
   "outputs": [
    {
     "name": "stdout",
     "output_type": "stream",
     "text": [
      "data type float64\n"
     ]
    }
   ],
   "source": [
    "var=np.array([1.2,2.3,43])\n",
    "print(\"data type\",var.dtype)"
   ]
  },
  {
   "cell_type": "code",
   "execution_count": 6,
   "id": "60beac3c",
   "metadata": {},
   "outputs": [
    {
     "name": "stdout",
     "output_type": "stream",
     "text": [
      "data type <U11\n"
     ]
    }
   ],
   "source": [
    "var=np.array(['hari','dasfds','fds',1,2,3])\n",
    "print(\"data type\",var.dtype)"
   ]
  },
  {
   "cell_type": "code",
   "execution_count": 17,
   "id": "c66b6a86",
   "metadata": {},
   "outputs": [
    {
     "name": "stdout",
     "output_type": "stream",
     "text": [
      "timedelta64\n"
     ]
    }
   ],
   "source": [
    "x=np.array([1,2,3,4,5,6],dtype=np.timedelta64)\n",
    "print(x.dtype)"
   ]
  },
  {
   "cell_type": "code",
   "execution_count": 25,
   "id": "5f150467",
   "metadata": {},
   "outputs": [
    {
     "name": "stdout",
     "output_type": "stream",
     "text": [
      "2023-02-27 22:45:41.356697\n",
      "2023-03-05 22:45:41.356697\n"
     ]
    }
   ],
   "source": [
    "from datetime import datetime,timedelta\n",
    "x=datetime.now()\n",
    "y=x+timedelta(days=6)\n",
    "print(x)\n",
    "print(y)"
   ]
  },
  {
   "cell_type": "code",
   "execution_count": 27,
   "id": "5d113625",
   "metadata": {},
   "outputs": [
    {
     "name": "stdout",
     "output_type": "stream",
     "text": [
      "float32\n"
     ]
    }
   ],
   "source": [
    "x1=np.array([1,2,3,4,5,6],dtype=\"f\")\n",
    "print(x1.dtype)"
   ]
  },
  {
   "cell_type": "code",
   "execution_count": 30,
   "id": "1b43d202",
   "metadata": {},
   "outputs": [
    {
     "name": "stdout",
     "output_type": "stream",
     "text": [
      "[1. 2. 3. 4.]\n",
      "float16\n"
     ]
    }
   ],
   "source": [
    "x2=np.array([1,2,3,4])\n",
    "x1=np.float16(x2)\n",
    "print(x1)\n",
    "print(x1.dtype)"
   ]
  },
  {
   "cell_type": "code",
   "execution_count": 32,
   "id": "5d23897c",
   "metadata": {},
   "outputs": [],
   "source": [
    "x1=np.array([1,2,3,4,5])\n",
    "new=x1.astype(complex)"
   ]
  },
  {
   "cell_type": "code",
   "execution_count": 33,
   "id": "013fd104",
   "metadata": {},
   "outputs": [
    {
     "name": "stdout",
     "output_type": "stream",
     "text": [
      "[1.+0.j 2.+0.j 3.+0.j 4.+0.j 5.+0.j]\n"
     ]
    }
   ],
   "source": [
    "print(new)"
   ]
  },
  {
   "cell_type": "code",
   "execution_count": 35,
   "id": "a6963fcf",
   "metadata": {},
   "outputs": [
    {
     "data": {
      "text/plain": [
       "dtype('complex128')"
      ]
     },
     "execution_count": 35,
     "metadata": {},
     "output_type": "execute_result"
    }
   ],
   "source": [
    "new.dtype"
   ]
  },
  {
   "cell_type": "code",
   "execution_count": null,
   "id": "699b64d0",
   "metadata": {},
   "outputs": [],
   "source": []
  }
 ],
 "metadata": {
  "kernelspec": {
   "display_name": "Python 3 (ipykernel)",
   "language": "python",
   "name": "python3"
  },
  "language_info": {
   "codemirror_mode": {
    "name": "ipython",
    "version": 3
   },
   "file_extension": ".py",
   "mimetype": "text/x-python",
   "name": "python",
   "nbconvert_exporter": "python",
   "pygments_lexer": "ipython3",
   "version": "3.9.13"
  }
 },
 "nbformat": 4,
 "nbformat_minor": 5
}
